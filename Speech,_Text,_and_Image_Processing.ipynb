{
  "nbformat": 4,
  "nbformat_minor": 0,
  "metadata": {
    "colab": {
      "provenance": [],
      "authorship_tag": "ABX9TyNDS5HPy2Zzy3THQy1LFOpA",
      "include_colab_link": true
    },
    "kernelspec": {
      "name": "python3",
      "display_name": "Python 3"
    },
    "language_info": {
      "name": "python"
    }
  },
  "cells": [
    {
      "cell_type": "markdown",
      "metadata": {
        "id": "view-in-github",
        "colab_type": "text"
      },
      "source": [
        "<a href=\"https://colab.research.google.com/github/varthini-30/google-collab/blob/main/Speech%2C_Text%2C_and_Image_Processing.ipynb\" target=\"_parent\"><img src=\"https://colab.research.google.com/assets/colab-badge.svg\" alt=\"Open In Colab\"/></a>"
      ]
    },
    {
      "cell_type": "code",
      "execution_count": 1,
      "metadata": {
        "colab": {
          "base_uri": "https://localhost:8080/"
        },
        "id": "qSJNJzZSi75F",
        "outputId": "8f3a1dff-e573-4273-a8dc-917968f16b51"
      },
      "outputs": [
        {
          "output_type": "stream",
          "name": "stdout",
          "text": [
            "Collecting gtts\n",
            "  Downloading gTTS-2.5.4-py3-none-any.whl.metadata (4.1 kB)\n",
            "Requirement already satisfied: requests<3,>=2.27 in /usr/local/lib/python3.12/dist-packages (from gtts) (2.32.4)\n",
            "Collecting click<8.2,>=7.1 (from gtts)\n",
            "  Downloading click-8.1.8-py3-none-any.whl.metadata (2.3 kB)\n",
            "Requirement already satisfied: charset_normalizer<4,>=2 in /usr/local/lib/python3.12/dist-packages (from requests<3,>=2.27->gtts) (3.4.3)\n",
            "Requirement already satisfied: idna<4,>=2.5 in /usr/local/lib/python3.12/dist-packages (from requests<3,>=2.27->gtts) (3.10)\n",
            "Requirement already satisfied: urllib3<3,>=1.21.1 in /usr/local/lib/python3.12/dist-packages (from requests<3,>=2.27->gtts) (2.5.0)\n",
            "Requirement already satisfied: certifi>=2017.4.17 in /usr/local/lib/python3.12/dist-packages (from requests<3,>=2.27->gtts) (2025.8.3)\n",
            "Downloading gTTS-2.5.4-py3-none-any.whl (29 kB)\n",
            "Downloading click-8.1.8-py3-none-any.whl (98 kB)\n",
            "\u001b[?25l   \u001b[90m━━━━━━━━━━━━━━━━━━━━━━━━━━━━━━━━━━━━━━━━\u001b[0m \u001b[32m0.0/98.2 kB\u001b[0m \u001b[31m?\u001b[0m eta \u001b[36m-:--:--\u001b[0m\r\u001b[2K   \u001b[90m━━━━━━━━━━━━━━━━━━━━━━━━━━━━━━━━━━━━━━━━\u001b[0m \u001b[32m98.2/98.2 kB\u001b[0m \u001b[31m7.4 MB/s\u001b[0m eta \u001b[36m0:00:00\u001b[0m\n",
            "\u001b[?25hInstalling collected packages: click, gtts\n",
            "  Attempting uninstall: click\n",
            "    Found existing installation: click 8.2.1\n",
            "    Uninstalling click-8.2.1:\n",
            "      Successfully uninstalled click-8.2.1\n",
            "Successfully installed click-8.1.8 gtts-2.5.4\n",
            "Collecting SpeechRecognition\n",
            "  Downloading speechrecognition-3.14.3-py3-none-any.whl.metadata (30 kB)\n",
            "Requirement already satisfied: typing-extensions in /usr/local/lib/python3.12/dist-packages (from SpeechRecognition) (4.15.0)\n",
            "Downloading speechrecognition-3.14.3-py3-none-any.whl (32.9 MB)\n",
            "\u001b[2K   \u001b[90m━━━━━━━━━━━━━━━━━━━━━━━━━━━━━━━━━━━━━━━━\u001b[0m \u001b[32m32.9/32.9 MB\u001b[0m \u001b[31m57.2 MB/s\u001b[0m eta \u001b[36m0:00:00\u001b[0m\n",
            "\u001b[?25hInstalling collected packages: SpeechRecognition\n",
            "Successfully installed SpeechRecognition-3.14.3\n",
            "Collecting pytesseract\n",
            "  Downloading pytesseract-0.3.13-py3-none-any.whl.metadata (11 kB)\n",
            "Requirement already satisfied: packaging>=21.3 in /usr/local/lib/python3.12/dist-packages (from pytesseract) (25.0)\n",
            "Requirement already satisfied: Pillow>=8.0.0 in /usr/local/lib/python3.12/dist-packages (from pytesseract) (11.3.0)\n",
            "Downloading pytesseract-0.3.13-py3-none-any.whl (14 kB)\n",
            "Installing collected packages: pytesseract\n",
            "Successfully installed pytesseract-0.3.13\n",
            "Collecting googletrans==4.0.0-rc1\n",
            "  Downloading googletrans-4.0.0rc1.tar.gz (20 kB)\n",
            "  Preparing metadata (setup.py) ... \u001b[?25l\u001b[?25hdone\n",
            "Collecting httpx==0.13.3 (from googletrans==4.0.0-rc1)\n",
            "  Downloading httpx-0.13.3-py3-none-any.whl.metadata (25 kB)\n",
            "Requirement already satisfied: certifi in /usr/local/lib/python3.12/dist-packages (from httpx==0.13.3->googletrans==4.0.0-rc1) (2025.8.3)\n",
            "Collecting hstspreload (from httpx==0.13.3->googletrans==4.0.0-rc1)\n",
            "  Downloading hstspreload-2025.1.1-py3-none-any.whl.metadata (2.1 kB)\n",
            "Requirement already satisfied: sniffio in /usr/local/lib/python3.12/dist-packages (from httpx==0.13.3->googletrans==4.0.0-rc1) (1.3.1)\n",
            "Collecting chardet==3.* (from httpx==0.13.3->googletrans==4.0.0-rc1)\n",
            "  Downloading chardet-3.0.4-py2.py3-none-any.whl.metadata (3.2 kB)\n",
            "Collecting idna==2.* (from httpx==0.13.3->googletrans==4.0.0-rc1)\n",
            "  Downloading idna-2.10-py2.py3-none-any.whl.metadata (9.1 kB)\n",
            "Collecting rfc3986<2,>=1.3 (from httpx==0.13.3->googletrans==4.0.0-rc1)\n",
            "  Downloading rfc3986-1.5.0-py2.py3-none-any.whl.metadata (6.5 kB)\n",
            "Collecting httpcore==0.9.* (from httpx==0.13.3->googletrans==4.0.0-rc1)\n",
            "  Downloading httpcore-0.9.1-py3-none-any.whl.metadata (4.6 kB)\n",
            "Collecting h11<0.10,>=0.8 (from httpcore==0.9.*->httpx==0.13.3->googletrans==4.0.0-rc1)\n",
            "  Downloading h11-0.9.0-py2.py3-none-any.whl.metadata (8.1 kB)\n",
            "Collecting h2==3.* (from httpcore==0.9.*->httpx==0.13.3->googletrans==4.0.0-rc1)\n",
            "  Downloading h2-3.2.0-py2.py3-none-any.whl.metadata (32 kB)\n",
            "Collecting hyperframe<6,>=5.2.0 (from h2==3.*->httpcore==0.9.*->httpx==0.13.3->googletrans==4.0.0-rc1)\n",
            "  Downloading hyperframe-5.2.0-py2.py3-none-any.whl.metadata (7.2 kB)\n",
            "Collecting hpack<4,>=3.0 (from h2==3.*->httpcore==0.9.*->httpx==0.13.3->googletrans==4.0.0-rc1)\n",
            "  Downloading hpack-3.0.0-py2.py3-none-any.whl.metadata (7.0 kB)\n",
            "Downloading httpx-0.13.3-py3-none-any.whl (55 kB)\n",
            "\u001b[2K   \u001b[90m━━━━━━━━━━━━━━━━━━━━━━━━━━━━━━━━━━━━━━━━\u001b[0m \u001b[32m55.1/55.1 kB\u001b[0m \u001b[31m5.0 MB/s\u001b[0m eta \u001b[36m0:00:00\u001b[0m\n",
            "\u001b[?25hDownloading chardet-3.0.4-py2.py3-none-any.whl (133 kB)\n",
            "\u001b[2K   \u001b[90m━━━━━━━━━━━━━━━━━━━━━━━━━━━━━━━━━━━━━━━━\u001b[0m \u001b[32m133.4/133.4 kB\u001b[0m \u001b[31m10.8 MB/s\u001b[0m eta \u001b[36m0:00:00\u001b[0m\n",
            "\u001b[?25hDownloading httpcore-0.9.1-py3-none-any.whl (42 kB)\n",
            "\u001b[2K   \u001b[90m━━━━━━━━━━━━━━━━━━━━━━━━━━━━━━━━━━━━━━━━\u001b[0m \u001b[32m42.6/42.6 kB\u001b[0m \u001b[31m3.3 MB/s\u001b[0m eta \u001b[36m0:00:00\u001b[0m\n",
            "\u001b[?25hDownloading idna-2.10-py2.py3-none-any.whl (58 kB)\n",
            "\u001b[2K   \u001b[90m━━━━━━━━━━━━━━━━━━━━━━━━━━━━━━━━━━━━━━━━\u001b[0m \u001b[32m58.8/58.8 kB\u001b[0m \u001b[31m4.4 MB/s\u001b[0m eta \u001b[36m0:00:00\u001b[0m\n",
            "\u001b[?25hDownloading h2-3.2.0-py2.py3-none-any.whl (65 kB)\n",
            "\u001b[2K   \u001b[90m━━━━━━━━━━━━━━━━━━━━━━━━━━━━━━━━━━━━━━━━\u001b[0m \u001b[32m65.0/65.0 kB\u001b[0m \u001b[31m5.3 MB/s\u001b[0m eta \u001b[36m0:00:00\u001b[0m\n",
            "\u001b[?25hDownloading rfc3986-1.5.0-py2.py3-none-any.whl (31 kB)\n",
            "Downloading hstspreload-2025.1.1-py3-none-any.whl (1.3 MB)\n",
            "\u001b[2K   \u001b[90m━━━━━━━━━━━━━━━━━━━━━━━━━━━━━━━━━━━━━━━━\u001b[0m \u001b[32m1.3/1.3 MB\u001b[0m \u001b[31m63.3 MB/s\u001b[0m eta \u001b[36m0:00:00\u001b[0m\n",
            "\u001b[?25hDownloading h11-0.9.0-py2.py3-none-any.whl (53 kB)\n",
            "\u001b[2K   \u001b[90m━━━━━━━━━━━━━━━━━━━━━━━━━━━━━━━━━━━━━━━━\u001b[0m \u001b[32m53.6/53.6 kB\u001b[0m \u001b[31m4.1 MB/s\u001b[0m eta \u001b[36m0:00:00\u001b[0m\n",
            "\u001b[?25hDownloading hpack-3.0.0-py2.py3-none-any.whl (38 kB)\n",
            "Downloading hyperframe-5.2.0-py2.py3-none-any.whl (12 kB)\n",
            "Building wheels for collected packages: googletrans\n",
            "  Building wheel for googletrans (setup.py) ... \u001b[?25l\u001b[?25hdone\n",
            "  Created wheel for googletrans: filename=googletrans-4.0.0rc1-py3-none-any.whl size=17396 sha256=f8f9c30c51945b083061368fbef2d0cabd3ccfe12d8e49b07fe189b013d5d080\n",
            "  Stored in directory: /root/.cache/pip/wheels/95/0f/04/b17a72024b56a60e499ce1a6313d283ed5ba332407155bee03\n",
            "Successfully built googletrans\n",
            "Installing collected packages: rfc3986, hyperframe, hpack, h11, chardet, idna, hstspreload, h2, httpcore, httpx, googletrans\n",
            "  Attempting uninstall: hyperframe\n",
            "    Found existing installation: hyperframe 6.1.0\n",
            "    Uninstalling hyperframe-6.1.0:\n",
            "      Successfully uninstalled hyperframe-6.1.0\n",
            "  Attempting uninstall: hpack\n",
            "    Found existing installation: hpack 4.1.0\n",
            "    Uninstalling hpack-4.1.0:\n",
            "      Successfully uninstalled hpack-4.1.0\n",
            "  Attempting uninstall: h11\n",
            "    Found existing installation: h11 0.16.0\n",
            "    Uninstalling h11-0.16.0:\n",
            "      Successfully uninstalled h11-0.16.0\n",
            "  Attempting uninstall: chardet\n",
            "    Found existing installation: chardet 5.2.0\n",
            "    Uninstalling chardet-5.2.0:\n",
            "      Successfully uninstalled chardet-5.2.0\n",
            "  Attempting uninstall: idna\n",
            "    Found existing installation: idna 3.10\n",
            "    Uninstalling idna-3.10:\n",
            "      Successfully uninstalled idna-3.10\n",
            "  Attempting uninstall: h2\n",
            "    Found existing installation: h2 4.3.0\n",
            "    Uninstalling h2-4.3.0:\n",
            "      Successfully uninstalled h2-4.3.0\n",
            "  Attempting uninstall: httpcore\n",
            "    Found existing installation: httpcore 1.0.9\n",
            "    Uninstalling httpcore-1.0.9:\n",
            "      Successfully uninstalled httpcore-1.0.9\n",
            "  Attempting uninstall: httpx\n",
            "    Found existing installation: httpx 0.28.1\n",
            "    Uninstalling httpx-0.28.1:\n",
            "      Successfully uninstalled httpx-0.28.1\n",
            "\u001b[31mERROR: pip's dependency resolver does not currently take into account all the packages that are installed. This behaviour is the source of the following dependency conflicts.\n",
            "langsmith 0.4.28 requires httpx<1,>=0.23.0, but you have httpx 0.13.3 which is incompatible.\n",
            "gradio-client 1.13.0 requires httpx>=0.24.1, but you have httpx 0.13.3 which is incompatible.\n",
            "gradio 5.46.0 requires httpx<1.0,>=0.24.1, but you have httpx 0.13.3 which is incompatible.\n",
            "openai 1.108.0 requires httpx<1,>=0.23.0, but you have httpx 0.13.3 which is incompatible.\n",
            "google-genai 1.38.0 requires httpx<1.0.0,>=0.28.1, but you have httpx 0.13.3 which is incompatible.\n",
            "firebase-admin 6.9.0 requires httpx[http2]==0.28.1, but you have httpx 0.13.3 which is incompatible.\n",
            "mcp 1.14.1 requires httpx>=0.27.1, but you have httpx 0.13.3 which is incompatible.\u001b[0m\u001b[31m\n",
            "\u001b[0mSuccessfully installed chardet-3.0.4 googletrans-4.0.0rc1 h11-0.9.0 h2-3.2.0 hpack-3.0.0 hstspreload-2025.1.1 httpcore-0.9.1 httpx-0.13.3 hyperframe-5.2.0 idna-2.10 rfc3986-1.5.0\n",
            "Requirement already satisfied: textblob in /usr/local/lib/python3.12/dist-packages (0.19.0)\n",
            "Requirement already satisfied: nltk>=3.9 in /usr/local/lib/python3.12/dist-packages (from textblob) (3.9.1)\n",
            "Requirement already satisfied: click in /usr/local/lib/python3.12/dist-packages (from nltk>=3.9->textblob) (8.1.8)\n",
            "Requirement already satisfied: joblib in /usr/local/lib/python3.12/dist-packages (from nltk>=3.9->textblob) (1.5.2)\n",
            "Requirement already satisfied: regex>=2021.8.3 in /usr/local/lib/python3.12/dist-packages (from nltk>=3.9->textblob) (2024.11.6)\n",
            "Requirement already satisfied: tqdm in /usr/local/lib/python3.12/dist-packages (from nltk>=3.9->textblob) (4.67.1)\n",
            "Requirement already satisfied: spacy in /usr/local/lib/python3.12/dist-packages (3.8.7)\n",
            "Requirement already satisfied: spacy-legacy<3.1.0,>=3.0.11 in /usr/local/lib/python3.12/dist-packages (from spacy) (3.0.12)\n",
            "Requirement already satisfied: spacy-loggers<2.0.0,>=1.0.0 in /usr/local/lib/python3.12/dist-packages (from spacy) (1.0.5)\n",
            "Requirement already satisfied: murmurhash<1.1.0,>=0.28.0 in /usr/local/lib/python3.12/dist-packages (from spacy) (1.0.13)\n",
            "Requirement already satisfied: cymem<2.1.0,>=2.0.2 in /usr/local/lib/python3.12/dist-packages (from spacy) (2.0.11)\n",
            "Requirement already satisfied: preshed<3.1.0,>=3.0.2 in /usr/local/lib/python3.12/dist-packages (from spacy) (3.0.10)\n",
            "Requirement already satisfied: thinc<8.4.0,>=8.3.4 in /usr/local/lib/python3.12/dist-packages (from spacy) (8.3.6)\n",
            "Requirement already satisfied: wasabi<1.2.0,>=0.9.1 in /usr/local/lib/python3.12/dist-packages (from spacy) (1.1.3)\n",
            "Requirement already satisfied: srsly<3.0.0,>=2.4.3 in /usr/local/lib/python3.12/dist-packages (from spacy) (2.5.1)\n",
            "Requirement already satisfied: catalogue<2.1.0,>=2.0.6 in /usr/local/lib/python3.12/dist-packages (from spacy) (2.0.10)\n",
            "Requirement already satisfied: weasel<0.5.0,>=0.1.0 in /usr/local/lib/python3.12/dist-packages (from spacy) (0.4.1)\n",
            "Requirement already satisfied: typer<1.0.0,>=0.3.0 in /usr/local/lib/python3.12/dist-packages (from spacy) (0.17.4)\n",
            "Requirement already satisfied: tqdm<5.0.0,>=4.38.0 in /usr/local/lib/python3.12/dist-packages (from spacy) (4.67.1)\n",
            "Requirement already satisfied: numpy>=1.19.0 in /usr/local/lib/python3.12/dist-packages (from spacy) (2.0.2)\n",
            "Requirement already satisfied: requests<3.0.0,>=2.13.0 in /usr/local/lib/python3.12/dist-packages (from spacy) (2.32.4)\n",
            "Requirement already satisfied: pydantic!=1.8,!=1.8.1,<3.0.0,>=1.7.4 in /usr/local/lib/python3.12/dist-packages (from spacy) (2.11.9)\n",
            "Requirement already satisfied: jinja2 in /usr/local/lib/python3.12/dist-packages (from spacy) (3.1.6)\n",
            "Requirement already satisfied: setuptools in /usr/local/lib/python3.12/dist-packages (from spacy) (75.2.0)\n",
            "Requirement already satisfied: packaging>=20.0 in /usr/local/lib/python3.12/dist-packages (from spacy) (25.0)\n",
            "Requirement already satisfied: langcodes<4.0.0,>=3.2.0 in /usr/local/lib/python3.12/dist-packages (from spacy) (3.5.0)\n",
            "Requirement already satisfied: language-data>=1.2 in /usr/local/lib/python3.12/dist-packages (from langcodes<4.0.0,>=3.2.0->spacy) (1.3.0)\n",
            "Requirement already satisfied: annotated-types>=0.6.0 in /usr/local/lib/python3.12/dist-packages (from pydantic!=1.8,!=1.8.1,<3.0.0,>=1.7.4->spacy) (0.7.0)\n",
            "Requirement already satisfied: pydantic-core==2.33.2 in /usr/local/lib/python3.12/dist-packages (from pydantic!=1.8,!=1.8.1,<3.0.0,>=1.7.4->spacy) (2.33.2)\n",
            "Requirement already satisfied: typing-extensions>=4.12.2 in /usr/local/lib/python3.12/dist-packages (from pydantic!=1.8,!=1.8.1,<3.0.0,>=1.7.4->spacy) (4.15.0)\n",
            "Requirement already satisfied: typing-inspection>=0.4.0 in /usr/local/lib/python3.12/dist-packages (from pydantic!=1.8,!=1.8.1,<3.0.0,>=1.7.4->spacy) (0.4.1)\n",
            "Requirement already satisfied: charset_normalizer<4,>=2 in /usr/local/lib/python3.12/dist-packages (from requests<3.0.0,>=2.13.0->spacy) (3.4.3)\n",
            "Requirement already satisfied: idna<4,>=2.5 in /usr/local/lib/python3.12/dist-packages (from requests<3.0.0,>=2.13.0->spacy) (2.10)\n",
            "Requirement already satisfied: urllib3<3,>=1.21.1 in /usr/local/lib/python3.12/dist-packages (from requests<3.0.0,>=2.13.0->spacy) (2.5.0)\n",
            "Requirement already satisfied: certifi>=2017.4.17 in /usr/local/lib/python3.12/dist-packages (from requests<3.0.0,>=2.13.0->spacy) (2025.8.3)\n",
            "Requirement already satisfied: blis<1.4.0,>=1.3.0 in /usr/local/lib/python3.12/dist-packages (from thinc<8.4.0,>=8.3.4->spacy) (1.3.0)\n",
            "Requirement already satisfied: confection<1.0.0,>=0.0.1 in /usr/local/lib/python3.12/dist-packages (from thinc<8.4.0,>=8.3.4->spacy) (0.1.5)\n",
            "Requirement already satisfied: click>=8.0.0 in /usr/local/lib/python3.12/dist-packages (from typer<1.0.0,>=0.3.0->spacy) (8.1.8)\n",
            "Requirement already satisfied: shellingham>=1.3.0 in /usr/local/lib/python3.12/dist-packages (from typer<1.0.0,>=0.3.0->spacy) (1.5.4)\n",
            "Requirement already satisfied: rich>=10.11.0 in /usr/local/lib/python3.12/dist-packages (from typer<1.0.0,>=0.3.0->spacy) (13.9.4)\n",
            "Requirement already satisfied: cloudpathlib<1.0.0,>=0.7.0 in /usr/local/lib/python3.12/dist-packages (from weasel<0.5.0,>=0.1.0->spacy) (0.22.0)\n",
            "Requirement already satisfied: smart-open<8.0.0,>=5.2.1 in /usr/local/lib/python3.12/dist-packages (from weasel<0.5.0,>=0.1.0->spacy) (7.3.1)\n",
            "Requirement already satisfied: MarkupSafe>=2.0 in /usr/local/lib/python3.12/dist-packages (from jinja2->spacy) (3.0.2)\n",
            "Requirement already satisfied: marisa-trie>=1.1.0 in /usr/local/lib/python3.12/dist-packages (from language-data>=1.2->langcodes<4.0.0,>=3.2.0->spacy) (1.3.1)\n",
            "Requirement already satisfied: markdown-it-py>=2.2.0 in /usr/local/lib/python3.12/dist-packages (from rich>=10.11.0->typer<1.0.0,>=0.3.0->spacy) (4.0.0)\n",
            "Requirement already satisfied: pygments<3.0.0,>=2.13.0 in /usr/local/lib/python3.12/dist-packages (from rich>=10.11.0->typer<1.0.0,>=0.3.0->spacy) (2.19.2)\n",
            "Requirement already satisfied: wrapt in /usr/local/lib/python3.12/dist-packages (from smart-open<8.0.0,>=5.2.1->weasel<0.5.0,>=0.1.0->spacy) (1.17.3)\n",
            "Requirement already satisfied: mdurl~=0.1 in /usr/local/lib/python3.12/dist-packages (from markdown-it-py>=2.2.0->rich>=10.11.0->typer<1.0.0,>=0.3.0->spacy) (0.1.2)\n",
            "Collecting en-core-web-sm==3.8.0\n",
            "  Downloading https://github.com/explosion/spacy-models/releases/download/en_core_web_sm-3.8.0/en_core_web_sm-3.8.0-py3-none-any.whl (12.8 MB)\n",
            "\u001b[2K     \u001b[90m━━━━━━━━━━━━━━━━━━━━━━━━━━━━━━━━━━━━━━━\u001b[0m \u001b[32m12.8/12.8 MB\u001b[0m \u001b[31m102.6 MB/s\u001b[0m eta \u001b[36m0:00:00\u001b[0m\n",
            "\u001b[?25h\u001b[38;5;2m✔ Download and installation successful\u001b[0m\n",
            "You can now load the package via spacy.load('en_core_web_sm')\n",
            "\u001b[38;5;3m⚠ Restart to reload dependencies\u001b[0m\n",
            "If you are in a Jupyter or Colab notebook, you may need to restart Python in\n",
            "order to load all the package's dependencies. You can do this by selecting the\n",
            "'Restart kernel' or 'Restart runtime' option.\n",
            "Collecting deepface\n",
            "  Downloading deepface-0.0.95-py3-none-any.whl.metadata (35 kB)\n",
            "Requirement already satisfied: requests>=2.27.1 in /usr/local/lib/python3.12/dist-packages (from deepface) (2.32.4)\n",
            "Requirement already satisfied: numpy>=1.14.0 in /usr/local/lib/python3.12/dist-packages (from deepface) (2.0.2)\n",
            "Requirement already satisfied: pandas>=0.23.4 in /usr/local/lib/python3.12/dist-packages (from deepface) (2.2.2)\n",
            "Requirement already satisfied: gdown>=3.10.1 in /usr/local/lib/python3.12/dist-packages (from deepface) (5.2.0)\n",
            "Requirement already satisfied: tqdm>=4.30.0 in /usr/local/lib/python3.12/dist-packages (from deepface) (4.67.1)\n",
            "Requirement already satisfied: Pillow>=5.2.0 in /usr/local/lib/python3.12/dist-packages (from deepface) (11.3.0)\n",
            "Requirement already satisfied: opencv-python>=4.5.5.64 in /usr/local/lib/python3.12/dist-packages (from deepface) (4.12.0.88)\n",
            "Requirement already satisfied: tensorflow>=1.9.0 in /usr/local/lib/python3.12/dist-packages (from deepface) (2.19.0)\n",
            "Requirement already satisfied: keras>=2.2.0 in /usr/local/lib/python3.12/dist-packages (from deepface) (3.10.0)\n",
            "Requirement already satisfied: Flask>=1.1.2 in /usr/local/lib/python3.12/dist-packages (from deepface) (3.1.2)\n",
            "Collecting flask-cors>=4.0.1 (from deepface)\n",
            "  Downloading flask_cors-6.0.1-py3-none-any.whl.metadata (5.3 kB)\n",
            "Collecting mtcnn>=0.1.0 (from deepface)\n",
            "  Downloading mtcnn-1.0.0-py3-none-any.whl.metadata (5.8 kB)\n",
            "Collecting retina-face>=0.0.14 (from deepface)\n",
            "  Downloading retina_face-0.0.17-py3-none-any.whl.metadata (10 kB)\n",
            "Collecting fire>=0.4.0 (from deepface)\n",
            "  Downloading fire-0.7.1-py3-none-any.whl.metadata (5.8 kB)\n",
            "Collecting gunicorn>=20.1.0 (from deepface)\n",
            "  Downloading gunicorn-23.0.0-py3-none-any.whl.metadata (4.4 kB)\n",
            "Requirement already satisfied: termcolor in /usr/local/lib/python3.12/dist-packages (from fire>=0.4.0->deepface) (3.1.0)\n",
            "Requirement already satisfied: blinker>=1.9.0 in /usr/local/lib/python3.12/dist-packages (from Flask>=1.1.2->deepface) (1.9.0)\n",
            "Requirement already satisfied: click>=8.1.3 in /usr/local/lib/python3.12/dist-packages (from Flask>=1.1.2->deepface) (8.1.8)\n",
            "Requirement already satisfied: itsdangerous>=2.2.0 in /usr/local/lib/python3.12/dist-packages (from Flask>=1.1.2->deepface) (2.2.0)\n",
            "Requirement already satisfied: jinja2>=3.1.2 in /usr/local/lib/python3.12/dist-packages (from Flask>=1.1.2->deepface) (3.1.6)\n",
            "Requirement already satisfied: markupsafe>=2.1.1 in /usr/local/lib/python3.12/dist-packages (from Flask>=1.1.2->deepface) (3.0.2)\n",
            "Requirement already satisfied: werkzeug>=3.1.0 in /usr/local/lib/python3.12/dist-packages (from Flask>=1.1.2->deepface) (3.1.3)\n",
            "Requirement already satisfied: beautifulsoup4 in /usr/local/lib/python3.12/dist-packages (from gdown>=3.10.1->deepface) (4.13.5)\n",
            "Requirement already satisfied: filelock in /usr/local/lib/python3.12/dist-packages (from gdown>=3.10.1->deepface) (3.19.1)\n",
            "Requirement already satisfied: packaging in /usr/local/lib/python3.12/dist-packages (from gunicorn>=20.1.0->deepface) (25.0)\n",
            "Requirement already satisfied: absl-py in /usr/local/lib/python3.12/dist-packages (from keras>=2.2.0->deepface) (1.4.0)\n",
            "Requirement already satisfied: rich in /usr/local/lib/python3.12/dist-packages (from keras>=2.2.0->deepface) (13.9.4)\n",
            "Requirement already satisfied: namex in /usr/local/lib/python3.12/dist-packages (from keras>=2.2.0->deepface) (0.1.0)\n",
            "Requirement already satisfied: h5py in /usr/local/lib/python3.12/dist-packages (from keras>=2.2.0->deepface) (3.14.0)\n",
            "Requirement already satisfied: optree in /usr/local/lib/python3.12/dist-packages (from keras>=2.2.0->deepface) (0.17.0)\n",
            "Requirement already satisfied: ml-dtypes in /usr/local/lib/python3.12/dist-packages (from keras>=2.2.0->deepface) (0.5.3)\n",
            "Requirement already satisfied: joblib>=1.4.2 in /usr/local/lib/python3.12/dist-packages (from mtcnn>=0.1.0->deepface) (1.5.2)\n",
            "Collecting lz4>=4.3.3 (from mtcnn>=0.1.0->deepface)\n",
            "  Downloading lz4-4.4.4-cp312-cp312-manylinux_2_17_x86_64.manylinux2014_x86_64.whl.metadata (3.8 kB)\n",
            "Requirement already satisfied: python-dateutil>=2.8.2 in /usr/local/lib/python3.12/dist-packages (from pandas>=0.23.4->deepface) (2.9.0.post0)\n",
            "Requirement already satisfied: pytz>=2020.1 in /usr/local/lib/python3.12/dist-packages (from pandas>=0.23.4->deepface) (2025.2)\n",
            "Requirement already satisfied: tzdata>=2022.7 in /usr/local/lib/python3.12/dist-packages (from pandas>=0.23.4->deepface) (2025.2)\n",
            "Requirement already satisfied: charset_normalizer<4,>=2 in /usr/local/lib/python3.12/dist-packages (from requests>=2.27.1->deepface) (3.4.3)\n",
            "Requirement already satisfied: idna<4,>=2.5 in /usr/local/lib/python3.12/dist-packages (from requests>=2.27.1->deepface) (2.10)\n",
            "Requirement already satisfied: urllib3<3,>=1.21.1 in /usr/local/lib/python3.12/dist-packages (from requests>=2.27.1->deepface) (2.5.0)\n",
            "Requirement already satisfied: certifi>=2017.4.17 in /usr/local/lib/python3.12/dist-packages (from requests>=2.27.1->deepface) (2025.8.3)\n",
            "Requirement already satisfied: astunparse>=1.6.0 in /usr/local/lib/python3.12/dist-packages (from tensorflow>=1.9.0->deepface) (1.6.3)\n",
            "Requirement already satisfied: flatbuffers>=24.3.25 in /usr/local/lib/python3.12/dist-packages (from tensorflow>=1.9.0->deepface) (25.2.10)\n",
            "Requirement already satisfied: gast!=0.5.0,!=0.5.1,!=0.5.2,>=0.2.1 in /usr/local/lib/python3.12/dist-packages (from tensorflow>=1.9.0->deepface) (0.6.0)\n",
            "Requirement already satisfied: google-pasta>=0.1.1 in /usr/local/lib/python3.12/dist-packages (from tensorflow>=1.9.0->deepface) (0.2.0)\n",
            "Requirement already satisfied: libclang>=13.0.0 in /usr/local/lib/python3.12/dist-packages (from tensorflow>=1.9.0->deepface) (18.1.1)\n",
            "Requirement already satisfied: opt-einsum>=2.3.2 in /usr/local/lib/python3.12/dist-packages (from tensorflow>=1.9.0->deepface) (3.4.0)\n",
            "Requirement already satisfied: protobuf!=4.21.0,!=4.21.1,!=4.21.2,!=4.21.3,!=4.21.4,!=4.21.5,<6.0.0dev,>=3.20.3 in /usr/local/lib/python3.12/dist-packages (from tensorflow>=1.9.0->deepface) (5.29.5)\n",
            "Requirement already satisfied: setuptools in /usr/local/lib/python3.12/dist-packages (from tensorflow>=1.9.0->deepface) (75.2.0)\n",
            "Requirement already satisfied: six>=1.12.0 in /usr/local/lib/python3.12/dist-packages (from tensorflow>=1.9.0->deepface) (1.17.0)\n",
            "Requirement already satisfied: typing-extensions>=3.6.6 in /usr/local/lib/python3.12/dist-packages (from tensorflow>=1.9.0->deepface) (4.15.0)\n",
            "Requirement already satisfied: wrapt>=1.11.0 in /usr/local/lib/python3.12/dist-packages (from tensorflow>=1.9.0->deepface) (1.17.3)\n",
            "Requirement already satisfied: grpcio<2.0,>=1.24.3 in /usr/local/lib/python3.12/dist-packages (from tensorflow>=1.9.0->deepface) (1.75.0)\n",
            "Requirement already satisfied: tensorboard~=2.19.0 in /usr/local/lib/python3.12/dist-packages (from tensorflow>=1.9.0->deepface) (2.19.0)\n",
            "Requirement already satisfied: wheel<1.0,>=0.23.0 in /usr/local/lib/python3.12/dist-packages (from astunparse>=1.6.0->tensorflow>=1.9.0->deepface) (0.45.1)\n",
            "Requirement already satisfied: markdown>=2.6.8 in /usr/local/lib/python3.12/dist-packages (from tensorboard~=2.19.0->tensorflow>=1.9.0->deepface) (3.9)\n",
            "Requirement already satisfied: tensorboard-data-server<0.8.0,>=0.7.0 in /usr/local/lib/python3.12/dist-packages (from tensorboard~=2.19.0->tensorflow>=1.9.0->deepface) (0.7.2)\n",
            "Requirement already satisfied: soupsieve>1.2 in /usr/local/lib/python3.12/dist-packages (from beautifulsoup4->gdown>=3.10.1->deepface) (2.8)\n",
            "Requirement already satisfied: PySocks!=1.5.7,>=1.5.6 in /usr/local/lib/python3.12/dist-packages (from requests[socks]->gdown>=3.10.1->deepface) (1.7.1)\n",
            "Requirement already satisfied: markdown-it-py>=2.2.0 in /usr/local/lib/python3.12/dist-packages (from rich->keras>=2.2.0->deepface) (4.0.0)\n",
            "Requirement already satisfied: pygments<3.0.0,>=2.13.0 in /usr/local/lib/python3.12/dist-packages (from rich->keras>=2.2.0->deepface) (2.19.2)\n",
            "Requirement already satisfied: mdurl~=0.1 in /usr/local/lib/python3.12/dist-packages (from markdown-it-py>=2.2.0->rich->keras>=2.2.0->deepface) (0.1.2)\n",
            "Downloading deepface-0.0.95-py3-none-any.whl (128 kB)\n",
            "\u001b[2K   \u001b[90m━━━━━━━━━━━━━━━━━━━━━━━━━━━━━━━━━━━━━━━━\u001b[0m \u001b[32m128.3/128.3 kB\u001b[0m \u001b[31m10.9 MB/s\u001b[0m eta \u001b[36m0:00:00\u001b[0m\n",
            "\u001b[?25hDownloading fire-0.7.1-py3-none-any.whl (115 kB)\n",
            "\u001b[2K   \u001b[90m━━━━━━━━━━━━━━━━━━━━━━━━━━━━━━━━━━━━━━━━\u001b[0m \u001b[32m115.9/115.9 kB\u001b[0m \u001b[31m10.8 MB/s\u001b[0m eta \u001b[36m0:00:00\u001b[0m\n",
            "\u001b[?25hDownloading flask_cors-6.0.1-py3-none-any.whl (13 kB)\n",
            "Downloading gunicorn-23.0.0-py3-none-any.whl (85 kB)\n",
            "\u001b[2K   \u001b[90m━━━━━━━━━━━━━━━━━━━━━━━━━━━━━━━━━━━━━━━━\u001b[0m \u001b[32m85.0/85.0 kB\u001b[0m \u001b[31m8.1 MB/s\u001b[0m eta \u001b[36m0:00:00\u001b[0m\n",
            "\u001b[?25hDownloading mtcnn-1.0.0-py3-none-any.whl (1.9 MB)\n",
            "\u001b[2K   \u001b[90m━━━━━━━━━━━━━━━━━━━━━━━━━━━━━━━━━━━━━━━━\u001b[0m \u001b[32m1.9/1.9 MB\u001b[0m \u001b[31m80.6 MB/s\u001b[0m eta \u001b[36m0:00:00\u001b[0m\n",
            "\u001b[?25hDownloading retina_face-0.0.17-py3-none-any.whl (25 kB)\n",
            "Downloading lz4-4.4.4-cp312-cp312-manylinux_2_17_x86_64.manylinux2014_x86_64.whl (1.3 MB)\n",
            "\u001b[2K   \u001b[90m━━━━━━━━━━━━━━━━━━━━━━━━━━━━━━━━━━━━━━━━\u001b[0m \u001b[32m1.3/1.3 MB\u001b[0m \u001b[31m67.6 MB/s\u001b[0m eta \u001b[36m0:00:00\u001b[0m\n",
            "\u001b[?25hInstalling collected packages: lz4, gunicorn, fire, mtcnn, flask-cors, retina-face, deepface\n",
            "Successfully installed deepface-0.0.95 fire-0.7.1 flask-cors-6.0.1 gunicorn-23.0.0 lz4-4.4.4 mtcnn-1.0.0 retina-face-0.0.17\n",
            "Collecting nrclex\n",
            "  Downloading NRCLex-4.0-py3-none-any.whl.metadata (3.2 kB)\n",
            "Requirement already satisfied: textblob in /usr/local/lib/python3.12/dist-packages (from nrclex) (0.19.0)\n",
            "INFO: pip is looking at multiple versions of nrclex to determine which version is compatible with other requirements. This could take a while.\n",
            "  Downloading NRCLex-3.0.0.tar.gz (396 kB)\n",
            "\u001b[2K     \u001b[90m━━━━━━━━━━━━━━━━━━━━━━━━━━━━━━━━━━━━━━\u001b[0m \u001b[32m396.4/396.4 kB\u001b[0m \u001b[31m22.7 MB/s\u001b[0m eta \u001b[36m0:00:00\u001b[0m\n",
            "\u001b[?25h  Preparing metadata (setup.py) ... \u001b[?25l\u001b[?25hdone\n",
            "Requirement already satisfied: nltk>=3.9 in /usr/local/lib/python3.12/dist-packages (from textblob->nrclex) (3.9.1)\n",
            "Requirement already satisfied: click in /usr/local/lib/python3.12/dist-packages (from nltk>=3.9->textblob->nrclex) (8.1.8)\n",
            "Requirement already satisfied: joblib in /usr/local/lib/python3.12/dist-packages (from nltk>=3.9->textblob->nrclex) (1.5.2)\n",
            "Requirement already satisfied: regex>=2021.8.3 in /usr/local/lib/python3.12/dist-packages (from nltk>=3.9->textblob->nrclex) (2024.11.6)\n",
            "Requirement already satisfied: tqdm in /usr/local/lib/python3.12/dist-packages (from nltk>=3.9->textblob->nrclex) (4.67.1)\n",
            "Building wheels for collected packages: nrclex\n",
            "  Building wheel for nrclex (setup.py) ... \u001b[?25l\u001b[?25hdone\n",
            "  Created wheel for nrclex: filename=NRCLex-3.0.0-py3-none-any.whl size=43309 sha256=a6f51d280f12be6ccee6ccff735015d3194de3854221f0654091d3e642ad4465\n",
            "  Stored in directory: /root/.cache/pip/wheels/1f/e8/d0/e3c3da0ef3b37ef4381dbf5c9401f3a9861a63ce221b13d8bb\n",
            "Successfully built nrclex\n",
            "Installing collected packages: nrclex\n",
            "Successfully installed nrclex-3.0.0\n",
            "Requirement already satisfied: pillow in /usr/local/lib/python3.12/dist-packages (11.3.0)\n",
            "Requirement already satisfied: pydub in /usr/local/lib/python3.12/dist-packages (0.25.1)\n"
          ]
        }
      ],
      "source": [
        "!pip install gtts #google text to speech\n",
        "\n",
        "!pip install SpeechRecognition #speech to text\n",
        "\n",
        "!pip install pytesseract #OCR image to string\n",
        "\n",
        "!pip install googletrans==4.0.0-rc1 #google translator\n",
        "\n",
        "!pip install textblob #sentiment analysis\n",
        "\n",
        "!pip install spacy #for NER -name entity recognition\n",
        "\n",
        "!python -m spacy download en_core_web_sm #NER LM small #en_core_web_lg\n",
        "\n",
        "!pip install deepface #face demographics\n",
        "\n",
        "!pip install nrclex #emotion classification in text I\n",
        "\n",
        "!pip install pillow #handling images\n",
        "\n",
        "!pip install pydub #format conversion"
      ]
    },
    {
      "cell_type": "code",
      "source": [
        "from gtts import gTTS\n",
        "from IPython.display import Audio\n",
        "text ='This is a bottle of water.'\n",
        "tts = gTTS(text=text, lang='en',tld ='co.in')\n",
        "tts.save('test.mp3')\n",
        "Audio('test.mp3', autoplay=True)"
      ],
      "metadata": {
        "id": "b7W97KdKmdF3",
        "outputId": "5569c97f-28e2-43e5-a6d0-338b55f4d664",
        "colab": {
          "base_uri": "https://localhost:8080/",
          "height": 76
        }
      },
      "execution_count": 2,
      "outputs": [
        {
          "output_type": "execute_result",
          "data": {
            "text/plain": [
              "<IPython.lib.display.Audio object>"
            ],
            "text/html": [
              "\n",
              "                <audio  controls=\"controls\" autoplay=\"autoplay\">\n",
              "                    <source src=\"data:audio/mpeg;base64,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\" type=\"audio/mpeg\" />\n",
              "                    Your browser does not support the audio element.\n",
              "                </audio>\n",
              "              "
            ]
          },
          "metadata": {},
          "execution_count": 2
        }
      ]
    },
    {
      "cell_type": "code",
      "source": [
        "from pydub import AudioSegment\n",
        "sound = AudioSegment.from_file('mixkit-female-microphone-countdown-341 (1).wav')\n",
        "sound.export('test.wav',format='wav')"
      ],
      "metadata": {
        "id": "-KuQOGZEn4af",
        "outputId": "3a7c01a7-fc0e-48c6-b2cb-1363229c6021",
        "colab": {
          "base_uri": "https://localhost:8080/"
        }
      },
      "execution_count": 11,
      "outputs": [
        {
          "output_type": "execute_result",
          "data": {
            "text/plain": [
              "<_io.BufferedRandom name='test.wav'>"
            ]
          },
          "metadata": {},
          "execution_count": 11
        }
      ]
    },
    {
      "cell_type": "code",
      "source": [
        "import speech_recognition as sr\n",
        "r = sr.Recognizer()\n",
        "with sr.AudioFile('mixkit-female-microphone-countdown-341 (1).wav') as source:\n",
        "  audio = r.record(source)\n",
        "  r.adjust_for_ambient_noise(source)\n",
        "  text=r.recognize_google(audio, language='en-us')\n",
        "print(text)"
      ],
      "metadata": {
        "id": "oCprDAQsqgB2",
        "outputId": "c706e8b8-a4be-4e0a-ff45-846f4de79be7",
        "colab": {
          "base_uri": "https://localhost:8080/"
        }
      },
      "execution_count": 12,
      "outputs": [
        {
          "output_type": "stream",
          "name": "stdout",
          "text": [
            "10 987 654 321.0\n"
          ]
        }
      ]
    },
    {
      "cell_type": "code",
      "source": [
        "from PIL import Image\n",
        "import pytesseract\n",
        "img=Image.open('/content/birthday-greeting-card.jpg')\n",
        "text=pytesseract.image_to_string(img)\n",
        "print(text)"
      ],
      "metadata": {
        "id": "oph6Uf8SvBFc",
        "outputId": "cfd752b3-5834-4097-f05c-e4f29cceef72",
        "colab": {
          "base_uri": "https://localhost:8080/"
        }
      },
      "execution_count": 13,
      "outputs": [
        {
          "output_type": "stream",
          "name": "stdout",
          "text": [
            "  \n",
            " \n",
            " \n",
            " \n",
            "   \n",
            "\n",
            "Have a fabulous\n",
            "day filled with all\n",
            "the things\n",
            "you LOVE\n",
            "in Life & more!\n",
            "\f\n"
          ]
        }
      ]
    },
    {
      "cell_type": "code",
      "source": [
        "from googletrans import Translator\n",
        "translator=Translator()\n",
        "result=translator.translate(text,src='en',dest='ta')\n",
        "print(result.text)"
      ],
      "metadata": {
        "id": "ck489hgTwpjd",
        "outputId": "7bcdcfba-6e52-4307-e3b0-c027445ff07a",
        "colab": {
          "base_uri": "https://localhost:8080/"
        }
      },
      "execution_count": 15,
      "outputs": [
        {
          "output_type": "stream",
          "name": "stdout",
          "text": [
            "ஒரு அற்புதமான\n",
            "அனைவருக்கும் நிரப்பப்பட்ட நாள்\n",
            "விஷயங்கள்\n",
            "நீங்கள் நேசிக்கிறீர்கள்\n",
            "வாழ்க்கையில் & பல!\n"
          ]
        }
      ]
    },
    {
      "cell_type": "code",
      "source": [
        "from textblob import TextBlob\n",
        "#text=\"The service was terrible and food was mediocre\"\n",
        "#text=\"the weather is quite pleasant today\"\n",
        "text=\"the food is so good and pleasant\"\n",
        "blob=TextBlob(text)\n",
        "p=blob.sentiment.polarity\n",
        "print(\"Positive\" if p>0 else \"Negative\" if p<0 else \"Neutral\")"
      ],
      "metadata": {
        "id": "NE3_xn9JxPLP",
        "outputId": "a90ed621-edd7-46e8-fff3-56ad7c20a222",
        "colab": {
          "base_uri": "https://localhost:8080/"
        }
      },
      "execution_count": 19,
      "outputs": [
        {
          "output_type": "stream",
          "name": "stdout",
          "text": [
            "Positive\n"
          ]
        }
      ]
    },
    {
      "cell_type": "code",
      "source": [
        " import spacy\n",
        " nlp = spacy.load('en_core_web_sm')\n",
        " text= '''Last week 09-09-2025 Apple is looking at buying U.K. startup for $1 billion.Tim Cook is the CEO of Apple, and he lives in California'''\n",
        " doc = nlp(text)\n",
        " for ent in doc.ents:\n",
        "    print(ent.text,ent.label_)"
      ],
      "metadata": {
        "id": "x6CzOTc91tQJ",
        "outputId": "a4650194-c749-4bc5-c17e-f6d6fcbf1d59",
        "colab": {
          "base_uri": "https://localhost:8080/"
        }
      },
      "execution_count": 21,
      "outputs": [
        {
          "output_type": "stream",
          "name": "stdout",
          "text": [
            "Last week DATE\n",
            "Apple ORG\n",
            "U.K. GPE\n",
            "$1 billion MONEY\n",
            "Tim Cook PERSON\n",
            "Apple ORG\n",
            "California GPE\n"
          ]
        }
      ]
    },
    {
      "cell_type": "code",
      "source": [
        "from spacy import displacy\n",
        "displacy.render(doc,style='ent',jupyter=True)"
      ],
      "metadata": {
        "id": "q6fCnXk81BxD",
        "outputId": "767595cb-ad79-4b6a-f848-6e0d4936d07d",
        "colab": {
          "base_uri": "https://localhost:8080/",
          "height": 87
        }
      },
      "execution_count": 22,
      "outputs": [
        {
          "output_type": "display_data",
          "data": {
            "text/plain": [
              "<IPython.core.display.HTML object>"
            ],
            "text/html": [
              "<span class=\"tex2jax_ignore\"><div class=\"entities\" style=\"line-height: 2.5; direction: ltr\">\n",
              "<mark class=\"entity\" style=\"background: #bfe1d9; padding: 0.45em 0.6em; margin: 0 0.25em; line-height: 1; border-radius: 0.35em;\">\n",
              "    Last week\n",
              "    <span style=\"font-size: 0.8em; font-weight: bold; line-height: 1; border-radius: 0.35em; vertical-align: middle; margin-left: 0.5rem\">DATE</span>\n",
              "</mark>\n",
              " 09-09-2025 \n",
              "<mark class=\"entity\" style=\"background: #7aecec; padding: 0.45em 0.6em; margin: 0 0.25em; line-height: 1; border-radius: 0.35em;\">\n",
              "    Apple\n",
              "    <span style=\"font-size: 0.8em; font-weight: bold; line-height: 1; border-radius: 0.35em; vertical-align: middle; margin-left: 0.5rem\">ORG</span>\n",
              "</mark>\n",
              " is looking at buying \n",
              "<mark class=\"entity\" style=\"background: #feca74; padding: 0.45em 0.6em; margin: 0 0.25em; line-height: 1; border-radius: 0.35em;\">\n",
              "    U.K.\n",
              "    <span style=\"font-size: 0.8em; font-weight: bold; line-height: 1; border-radius: 0.35em; vertical-align: middle; margin-left: 0.5rem\">GPE</span>\n",
              "</mark>\n",
              " startup for \n",
              "<mark class=\"entity\" style=\"background: #e4e7d2; padding: 0.45em 0.6em; margin: 0 0.25em; line-height: 1; border-radius: 0.35em;\">\n",
              "    $1 billion\n",
              "    <span style=\"font-size: 0.8em; font-weight: bold; line-height: 1; border-radius: 0.35em; vertical-align: middle; margin-left: 0.5rem\">MONEY</span>\n",
              "</mark>\n",
              ".\n",
              "<mark class=\"entity\" style=\"background: #aa9cfc; padding: 0.45em 0.6em; margin: 0 0.25em; line-height: 1; border-radius: 0.35em;\">\n",
              "    Tim Cook\n",
              "    <span style=\"font-size: 0.8em; font-weight: bold; line-height: 1; border-radius: 0.35em; vertical-align: middle; margin-left: 0.5rem\">PERSON</span>\n",
              "</mark>\n",
              " is the CEO of \n",
              "<mark class=\"entity\" style=\"background: #7aecec; padding: 0.45em 0.6em; margin: 0 0.25em; line-height: 1; border-radius: 0.35em;\">\n",
              "    Apple\n",
              "    <span style=\"font-size: 0.8em; font-weight: bold; line-height: 1; border-radius: 0.35em; vertical-align: middle; margin-left: 0.5rem\">ORG</span>\n",
              "</mark>\n",
              ", and he lives in \n",
              "<mark class=\"entity\" style=\"background: #feca74; padding: 0.45em 0.6em; margin: 0 0.25em; line-height: 1; border-radius: 0.35em;\">\n",
              "    California\n",
              "    <span style=\"font-size: 0.8em; font-weight: bold; line-height: 1; border-radius: 0.35em; vertical-align: middle; margin-left: 0.5rem\">GPE</span>\n",
              "</mark>\n",
              "</div></span>"
            ]
          },
          "metadata": {}
        }
      ]
    },
    {
      "cell_type": "code",
      "source": [
        "import nltk\n",
        "nltk.download('punkt_tab')"
      ],
      "metadata": {
        "id": "oCAixSPs3lQ1",
        "outputId": "ab4355cd-63af-4978-f33e-fc14f4ddb7ca",
        "colab": {
          "base_uri": "https://localhost:8080/"
        }
      },
      "execution_count": 23,
      "outputs": [
        {
          "output_type": "stream",
          "name": "stderr",
          "text": [
            "[nltk_data] Downloading package punkt_tab to /root/nltk_data...\n",
            "[nltk_data]   Unzipping tokenizers/punkt_tab.zip.\n"
          ]
        },
        {
          "output_type": "execute_result",
          "data": {
            "text/plain": [
              "True"
            ]
          },
          "metadata": {},
          "execution_count": 23
        }
      ]
    },
    {
      "cell_type": "code",
      "source": [
        "from nrclex import NRCLex\n",
        "text='''I'm so happy about the wonderful news! However I fell a bit anxious'''\n",
        "emotion=NRCLex(text)\n",
        "emotion.top_emotions\n",
        "#emotion.affect_frequencies"
      ],
      "metadata": {
        "id": "y3bNiPRn4rvW",
        "outputId": "ebc9d3a4-a476-45f9-9fe6-9ee55c80cdf4",
        "colab": {
          "base_uri": "https://localhost:8080/"
        }
      },
      "execution_count": 28,
      "outputs": [
        {
          "output_type": "execute_result",
          "data": {
            "text/plain": [
              "[('trust', 0.15384615384615385),\n",
              " ('positive', 0.15384615384615385),\n",
              " ('negative', 0.15384615384615385),\n",
              " ('joy', 0.15384615384615385),\n",
              " ('anticipation', 0.15384615384615385)]"
            ]
          },
          "metadata": {},
          "execution_count": 28
        }
      ]
    },
    {
      "cell_type": "code",
      "source": [
        "from deepface import DeepFace\n",
        "obj=DeepFace.analyze(img_path='/content/happy.jfif')"
      ],
      "metadata": {
        "id": "4b_-869252HA",
        "outputId": "9d81f621-80c9-4620-fff1-2c3bda03a851",
        "colab": {
          "base_uri": "https://localhost:8080/"
        }
      },
      "execution_count": 33,
      "outputs": [
        {
          "output_type": "stream",
          "name": "stderr",
          "text": [
            "Action: race: 100%|██████████| 4/4 [00:02<00:00,  1.99it/s]\n"
          ]
        }
      ]
    },
    {
      "cell_type": "code",
      "source": [
        "obj"
      ],
      "metadata": {
        "id": "Ogg8Swin9NTO",
        "outputId": "7fa2cf2b-7748-43f8-c8da-ee77388261a9",
        "colab": {
          "base_uri": "https://localhost:8080/"
        }
      },
      "execution_count": 35,
      "outputs": [
        {
          "output_type": "execute_result",
          "data": {
            "text/plain": [
              "[{'emotion': {'angry': np.float32(1.216464e-08),\n",
              "   'disgust': np.float32(1.1043986e-12),\n",
              "   'fear': np.float32(1.9319152e-06),\n",
              "   'happy': np.float32(96.9899),\n",
              "   'sad': np.float32(8.56038e-05),\n",
              "   'surprise': np.float32(0.00040191298),\n",
              "   'neutral': np.float32(3.0096154)},\n",
              "  'dominant_emotion': 'happy',\n",
              "  'region': {'x': 0,\n",
              "   'y': 6,\n",
              "   'w': 154,\n",
              "   'h': 199,\n",
              "   'left_eye': (104, 83),\n",
              "   'right_eye': (26, 86)},\n",
              "  'face_confidence': 0.91,\n",
              "  'age': 29,\n",
              "  'gender': {'Woman': np.float32(99.99947), 'Man': np.float32(0.0005284646)},\n",
              "  'dominant_gender': 'Woman',\n",
              "  'race': {'asian': np.float32(3.2039075),\n",
              "   'indian': np.float32(6.2704215),\n",
              "   'black': np.float32(0.78152406),\n",
              "   'white': np.float32(24.477942),\n",
              "   'middle eastern': np.float32(10.801285),\n",
              "   'latino hispanic': np.float32(54.464924)},\n",
              "  'dominant_race': 'latino hispanic'}]"
            ]
          },
          "metadata": {},
          "execution_count": 35
        }
      ]
    },
    {
      "cell_type": "code",
      "source": [],
      "metadata": {
        "id": "L0vJDxyB_rOW"
      },
      "execution_count": null,
      "outputs": []
    }
  ]
}